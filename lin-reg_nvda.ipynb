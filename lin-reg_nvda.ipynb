{
 "cells": [
  {
   "cell_type": "markdown",
   "id": "c98949fe",
   "metadata": {},
   "source": [
    "# Baseline model : Linear Regression"
   ]
  },
  {
   "cell_type": "markdown",
   "id": "b740500f",
   "metadata": {},
   "source": [
    "## Results\n",
    "\n",
    "#### close_NVDA_lag_1\n",
    "- **Mean Squared Error**: 7.941503432243339\n",
    "- **R² Score**: 0.9959860818141827\n",
    "- **Mean Absolute Error**: 1.7347503065624341\n",
    "- verry good prediction\n",
    "\n",
    "\n",
    "#### close_NVDA_lag_1 & oil\n",
    "- **Mean Squared Error**: 7.937821845271834\n",
    "- **R² Score**: 0.9959879426191328\n",
    "- **Mean Absolute Error**: 1.733686242138444\n",
    "- minimial better than before, but almost no change\n",
    "\n",
    "\n",
    "#### close_NVDA_lag_1, 3, 5, 10 & oil\n",
    "- **Mean Squared Error**: 7.999938877802877\n",
    "- **R² Score**: 0.9959565464623908\n",
    "- **Mean Absolute Error**: 1.7459020723640264\n",
    "- worse because of multicoloniality\n",
    "\n"
   ]
  },
  {
   "cell_type": "markdown",
   "id": "04f644bb",
   "metadata": {},
   "source": [
    "test\n"
   ]
  },
  {
   "cell_type": "code",
   "execution_count": null,
   "id": "e84e53ff",
   "metadata": {},
   "outputs": [],
   "source": [
    "import pandas as pd\n",
    "import numpy as np\n",
    "import matplotlib.pyplot as plt\n",
    "from sklearn.linear_model import LinearRegression\n",
    "from sklearn.model_selection import train_test_split\n",
    "from sklearn.metrics import mean_squared_error, r2_score, mean_absolute_error"
   ]
  },
  {
   "cell_type": "code",
   "execution_count": null,
   "id": "93e9e3ad",
   "metadata": {},
   "outputs": [],
   "source": [
    "df = pd.read_csv(\"../data/processed_combined_data.csv\")"
   ]
  },
  {
   "cell_type": "code",
   "execution_count": null,
   "id": "c240f985",
   "metadata": {},
   "outputs": [],
   "source": [
    "df.head()\n",
    "\n",
    "[col for col in df.columns if 'close_NVDA' in col]\n",
    "# df['close_NVDA'].isna().sum()    "
   ]
  },
  {
   "cell_type": "code",
   "execution_count": null,
   "id": "bb7c07f0",
   "metadata": {},
   "outputs": [],
   "source": [
    "X = df[['close_NVDA_lag_1']]  # Feature last day\n",
    "X2 = df[['close_NVDA_lag_1', 'oil']]  #Feature last day and oil\n",
    "X3 = df[['close_NVDA_lag_1', 'oil','close_NVDA_lag_3', 'close_NVDA_lag_5', 'close_NVDA_lag_10' ]]  #Feature last day and oil\n",
    "y = df['close_NVDA']    \n",
    "\n",
    "X_train, X_test, y_train, y_test = train_test_split(X, y, test_size=0.2, shuffle=False)\n",
    "X_train2, X_test2, y_train2, y_test2 = train_test_split(X2, y, test_size=0.2, shuffle=False)\n",
    "X_train3, X_test3, y_train3, y_test3 = train_test_split(X3, y, test_size=0.2, shuffle=False)\n",
    "\n",
    "model = LinearRegression()\n",
    "model.fit(X_train, y_train)\n",
    "\n",
    "model2 = LinearRegression()\n",
    "model2.fit(X_train2, y_train2)\n",
    "\n",
    "model3 = LinearRegression()\n",
    "model3.fit(X_train3, y_train3)"
   ]
  },
  {
   "cell_type": "code",
   "execution_count": null,
   "id": "e3aa78a5",
   "metadata": {},
   "outputs": [],
   "source": [
    "y_pred = model.predict(X_test)\n",
    "y_pred2 = model2.predict(X_test2)\n",
    "y_pred3 = model3.predict(X_test3)\n",
    "\n",
    "mse = mean_squared_error(y_test, y_pred)\n",
    "mae = mean_absolute_error(y_test, y_pred)\n",
    "r2 = r2_score(y_test, y_pred)\n",
    "\n",
    "mse2 = mean_squared_error(y_test2, y_pred2)\n",
    "mae2 = mean_absolute_error(y_test2, y_pred2)\n",
    "r22 = r2_score(y_test2, y_pred2)\n",
    "\n",
    "mse3 = mean_squared_error(y_test3, y_pred3)\n",
    "mae3 = mean_absolute_error(y_test3, y_pred3)\n",
    "r23 = r2_score(y_test3, y_pred3)\n",
    "\n",
    "print(\"-------close_NVDA_lag_1-------\")\n",
    "print(f\"Mean Squared Error: {mse}\")\n",
    "print(f\"R2 Score: {r2}\")\n",
    "print(f\"Mean Absolute Error: {mae}\")\n",
    "print(\"\")\n",
    "print(\"-------close_NVDA_lag_1 & oil-------\")\n",
    "print(f\"Mean Squared Error 2: {mse2}\")\n",
    "print(f\"R2 Score 2: {r22}\")\n",
    "print(f\"Mean Absolute Error: {mae2}\")\n",
    "print(\"\")\n",
    "print(\"-------close_NVDA_lag_1, 3, 5, 10 & oil-------\")\n",
    "print(f\"Mean Squared Error 3: {mse3}\")\n",
    "print(f\"R2 Score 3: {r23}\")\n",
    "print(f\"Mean Absolute Error 3: {mae3}\")"
   ]
  },
  {
   "cell_type": "code",
   "execution_count": null,
   "id": "0cf5bd99",
   "metadata": {},
   "outputs": [],
   "source": [
    "plt.figure(figsize=(10,6))\n",
    "plt.plot(y_test.index, y_test, label='Actual')\n",
    "plt.plot(y_test.index, y_pred, label='Predicted', linestyle='--')\n",
    "plt.plot(y_train.index, y_train, label='Train')\n",
    "plt.xlabel('Date')\n",
    "plt.ylabel('NVIDIA Closing Price')\n",
    "plt.title('NVIDIA Actual vs Predicted Closing Prices')\n",
    "plt.legend()\n",
    "plt.show()"
   ]
  },
  {
   "cell_type": "code",
   "execution_count": null,
   "id": "554b3940",
   "metadata": {},
   "outputs": [],
   "source": [
    "residuals = y_test - y_pred\n",
    "plt.scatter(y_test.index, residuals)\n",
    "plt.axhline(0, color='red', linestyle='--')\n",
    "plt.title('Residuals of Model')\n",
    "plt.xlabel('Index')\n",
    "plt.ylabel('Residuals')\n",
    "plt.show()"
   ]
  },
  {
   "cell_type": "markdown",
   "id": "90876b4e",
   "metadata": {},
   "source": []
  }
 ],
 "metadata": {
  "kernelspec": {
   "display_name": ".venv",
   "language": "python",
   "name": "python3"
  },
  "language_info": {
   "codemirror_mode": {
    "name": "ipython",
    "version": 3
   },
   "file_extension": ".py",
   "mimetype": "text/x-python",
   "name": "python",
   "nbconvert_exporter": "python",
   "pygments_lexer": "ipython3",
   "version": "3.11.3"
  }
 },
 "nbformat": 4,
 "nbformat_minor": 5
}
